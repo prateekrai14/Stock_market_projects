{
 "cells": [
  {
   "cell_type": "code",
   "execution_count": 1,
   "id": "21e8774d-24df-45f2-9e37-dc8932787f30",
   "metadata": {},
   "outputs": [],
   "source": [
    "import requests\n",
    "import pandas as pd\n",
    "pd.set_option('display.max_columns', None)"
   ]
  },
  {
   "cell_type": "markdown",
   "id": "4fd27ffb-f804-441d-969d-3fd8fb9bdd28",
   "metadata": {},
   "source": [
    "#### Fetch Mutual fund urls"
   ]
  },
  {
   "cell_type": "code",
   "execution_count": null,
   "id": "17cf5859-4688-4abd-af6f-556904e54ea9",
   "metadata": {},
   "outputs": [],
   "source": [
    "url_list=[]\n",
    "for i in range(0,78):\n",
    "    r=requests.get('https://groww.in/slr/v1/search/derived/scheme?available_for_investment=true&doc_type=scheme&max_aum=&page={}&plan_type=Direct&q=&size=15&sort_by=0'.format(str(i)))\n",
    "    data=r.json()\n",
    "    df2=pd.DataFrame(data['content'])\n",
    "    df2.head(1)\n",
    "    df2['url']='https://groww.in/mutual-funds/'+df2.search_id\n",
    "    url_list.extend(list(df2['url']))"
   ]
  },
  {
   "cell_type": "code",
   "execution_count": null,
   "id": "adcee19d-c780-4bdf-a306-23246fe1e21b",
   "metadata": {},
   "outputs": [],
   "source": [
    "url_list[0:20]"
   ]
  },
  {
   "cell_type": "code",
   "execution_count": null,
   "id": "9798e8c8-2ab2-4f9a-a668-d90c2dd8f950",
   "metadata": {},
   "outputs": [],
   "source": [
    "len(url_list)"
   ]
  },
  {
   "cell_type": "code",
   "execution_count": 2,
   "id": "901a0732-b5a4-4cc1-9388-d5b99e8dc885",
   "metadata": {},
   "outputs": [],
   "source": [
    "#### Fetch Mutual Data Investment information"
   ]
  },
  {
   "cell_type": "code",
   "execution_count": null,
   "id": "133ca6d4-dd5e-48bf-a5b5-a69af90ed5db",
   "metadata": {},
   "outputs": [],
   "source": [
    "from bs4 import BeautifulSoup\n",
    "import re\n",
    "import json\n"
   ]
  },
  {
   "cell_type": "code",
   "execution_count": null,
   "id": "ae246eec-4b13-4a3a-b0f3-02630cfd228b",
   "metadata": {},
   "outputs": [],
   "source": [
    "mutual_fund_data={}\n",
    "for i in range(0,len(url_list)):\n",
    "    r=requests.get(url_list[i])\n",
    "    html_soup_object = BeautifulSoup(r.content, 'html.parser')\n",
    "    matches=re.findall(r'window\\.__INITIAL_STATE__.*<\\/script>',r.text)\n",
    "    filtered_data=matches[0].replace('window.__INITIAL_STATE__ = ','').replace('</script>','')\n",
    "    holding_dict=json.loads(filtered_data)\n",
    "    holding_dict['fundV2']['productPage']\n",
    "    mutual_fund_name=list(holding_dict['fundV2']['productPage']['mfProductPageDataMap'].keys())[0]\n",
    "    for hol_list in holding_dict['fundV2']['productPage']['mfProductPageDataMap'][mutual_fund_name]['MAIN_DATA']['holdings']:\n",
    "        print(hol_list['company_name'],hol_list['sector_name'],hol_list['corpus_per'])\n",
    "        if hol_list['company_name'] not in list(mutual_fund_data.keys()):\n",
    "            mutual_fund_data[hol_list['company_name']]=[]\n",
    "            mutual_fund_data[hol_list['company_name']].append([mutual_fund_name,hol_list['corpus_per']])\n",
    "        else:\n",
    "            mutual_fund_data[hol_list['company_name']].append([mutual_fund_name,hol_list['corpus_per']])\n",
    "            \n",
    "mutual_fund_data        "
   ]
  },
  {
   "cell_type": "markdown",
   "id": "abdcc62c-bc37-4967-8e1f-90ce1b4b06d6",
   "metadata": {},
   "source": [
    "#### Run simple average operation on mutual fund data"
   ]
  },
  {
   "cell_type": "code",
   "execution_count": null,
   "id": "2eaad1c3-ea5a-432b-9eee-2be897bcb062",
   "metadata": {},
   "outputs": [],
   "source": [
    "import statistics"
   ]
  },
  {
   "cell_type": "code",
   "execution_count": null,
   "id": "4ef7cedc-362e-4efd-abcc-5da1fbc1a773",
   "metadata": {},
   "outputs": [],
   "source": [
    "stats_mutual_data=[]\n",
    "for key in mutual_fund_data.keys():\n",
    "    #print(mutual_fund_data[key])\n",
    "    average_data=[]\n",
    "    for i in range(0,len(mutual_fund_data[key])):\n",
    "        #print(mutual_fund_data[key][i][1])\n",
    "        average_data.append(mutual_fund_data[key][i][1])\n",
    "    #print(statistics.mean(average_data))    \n",
    "        \n",
    "    stats_mutual_data.append([len(mutual_fund_data[key]),key,statistics.mean(average_data)])\n",
    "#stats_mutual_data \n",
    "stats_df=pd.DataFrame(stats_mutual_data,columns=['Number_of_mutual_fund','Company Name','Average_Contibution'])\n",
    "stats_df.sort_values(['Number_of_mutual_fund','Average_Contibution'],ascending=[False, True]).head(60)"
   ]
  },
  {
   "cell_type": "code",
   "execution_count": null,
   "id": "c360d99f-6992-4b97-905a-b972d62b7960",
   "metadata": {},
   "outputs": [],
   "source": []
  }
 ],
 "metadata": {
  "kernelspec": {
   "display_name": "Python 3 (ipykernel)",
   "language": "python",
   "name": "python3"
  },
  "language_info": {
   "codemirror_mode": {
    "name": "ipython",
    "version": 3
   },
   "file_extension": ".py",
   "mimetype": "text/x-python",
   "name": "python",
   "nbconvert_exporter": "python",
   "pygments_lexer": "ipython3",
   "version": "3.9.12"
  }
 },
 "nbformat": 4,
 "nbformat_minor": 5
}
